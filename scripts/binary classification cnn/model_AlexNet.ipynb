{
 "cells": [
  {
   "cell_type": "code",
   "execution_count": 2,
   "metadata": {},
   "outputs": [],
   "source": [
    "import tensorflow as tf\n",
    "from tensorflow import keras\n",
    "from keras import layers\n",
    "import matplotlib.pyplot as plt"
   ]
  },
  {
   "cell_type": "markdown",
   "metadata": {},
   "source": [
    "Building the AlexNet Architecture using a Keras Functional API Sequential Model:\n",
    "Check feature map shapes to enure that the archiiecture follows the illustration in the paper."
   ]
  },
  {
   "cell_type": "code",
   "execution_count": 4,
   "metadata": {},
   "outputs": [
    {
     "name": "stdout",
     "output_type": "stream",
     "text": [
      "0 (1, 56, 56, 96)\n",
      "1 (1, 28, 28, 96)\n",
      "2 (1, 28, 28, 96)\n",
      "3 (1, 28, 28, 256)\n",
      "4 (1, 14, 14, 256)\n",
      "5 (1, 14, 14, 256)\n",
      "6 (1, 14, 14, 384)\n",
      "7 (1, 14, 14, 384)\n",
      "8 (1, 14, 14, 256)\n",
      "9 (1, 50176)\n",
      "10 (1, 4096)\n",
      "11 (1, 4096)\n",
      "12 (1, 4096)\n",
      "13 (1, 4096)\n",
      "14 (1, 2)\n"
     ]
    }
   ],
   "source": [
    "model = keras.Sequential(\n",
    "    [\n",
    "        # 1st Convolutional Layer\n",
    "        layers.Conv2D(filters=96, kernel_size=(11,11), strides=(4,4), activation='relu', padding='same', input_shape=(224, 224, 3)),\n",
    "        # Max-Pooling\n",
    "        layers.MaxPooling2D(pool_size=(3,3), strides=(2,2), padding='same'),\n",
    "        # Batch Normalization\n",
    "        layers.BatchNormalization(),\n",
    "\n",
    "        # 2nd Convolutional Layer\n",
    "        layers.Conv2D(filters=256, kernel_size=(5, 5), strides=(1,1), activation='relu', padding='same'),\n",
    "        # Max-Pooling\n",
    "        layers.MaxPooling2D(pool_size=(3,3), strides=(2,2), padding='same'),\n",
    "        # Batch Normalization\n",
    "        layers.BatchNormalization(),\n",
    "\n",
    "        # 3nd Convolutional Layer\n",
    "        layers.Conv2D(filters=384, kernel_size=(3,3), activation='relu', padding='same'),\n",
    "\n",
    "        # 4th Convolutional Layer\n",
    "        layers.Conv2D(filters=384, kernel_size=(3,3), activation='relu', padding='same'),\n",
    "\n",
    "        # 5th Convolutional Layer\n",
    "        layers.Conv2D(filters=256, kernel_size=(3,3), activation='relu', padding='same'),\n",
    "\n",
    "        # Flattening\n",
    "        layers.Flatten(),\n",
    "\n",
    "        # 1st Dense Layer\n",
    "        layers.Dense(4096, activation='relu'),\n",
    "        layers.Dropout(0.5),\n",
    "\n",
    "        # 2nd Dense Layer\n",
    "        layers.Dense(4096, activation='relu'),\n",
    "        layers.Dropout(0.5),\n",
    "\n",
    "        # 3rd Dense (Output) Layer\n",
    "        layers.Dense(2, activation='softmax'),\n",
    "    ]\n",
    ")\n",
    "\n",
    "feature_extractor = keras.Model(\n",
    "    inputs=model.inputs,\n",
    "    outputs=[layer.output for layer in model.layers],\n",
    ")\n",
    "\n",
    "# Call feature extractor on test input.\n",
    "x = tf.ones((1, 224, 224, 3))\n",
    "features = feature_extractor(x)\n",
    "\n",
    "# Get Shape of Each Layer\n",
    "for i, feature in enumerate(features):\n",
    "    print(i, feature.shape)"
   ]
  },
  {
   "cell_type": "code",
   "execution_count": 7,
   "metadata": {},
   "outputs": [
    {
     "name": "stdout",
     "output_type": "stream",
     "text": [
      "Model: \"sequential\"\n",
      "_________________________________________________________________\n",
      " Layer (type)                Output Shape              Param #   \n",
      "=================================================================\n",
      " conv2d (Conv2D)             (None, 56, 56, 96)        34944     \n",
      "                                                                 \n",
      " max_pooling2d (MaxPooling2D  (None, 28, 28, 96)       0         \n",
      " )                                                               \n",
      "                                                                 \n",
      " batch_normalization (BatchN  (None, 28, 28, 96)       384       \n",
      " ormalization)                                                   \n",
      "                                                                 \n",
      " conv2d_1 (Conv2D)           (None, 28, 28, 256)       614656    \n",
      "                                                                 \n",
      " max_pooling2d_1 (MaxPooling  (None, 14, 14, 256)      0         \n",
      " 2D)                                                             \n",
      "                                                                 \n",
      " batch_normalization_1 (Batc  (None, 14, 14, 256)      1024      \n",
      " hNormalization)                                                 \n",
      "                                                                 \n",
      " conv2d_2 (Conv2D)           (None, 14, 14, 384)       885120    \n",
      "                                                                 \n",
      " conv2d_3 (Conv2D)           (None, 14, 14, 384)       1327488   \n",
      "                                                                 \n",
      " conv2d_4 (Conv2D)           (None, 14, 14, 256)       884992    \n",
      "                                                                 \n",
      " flatten (Flatten)           (None, 50176)             0         \n",
      "                                                                 \n",
      " dense (Dense)               (None, 4096)              205524992 \n",
      "                                                                 \n",
      " dropout (Dropout)           (None, 4096)              0         \n",
      "                                                                 \n",
      " dense_1 (Dense)             (None, 4096)              16781312  \n",
      "                                                                 \n",
      " dropout_1 (Dropout)         (None, 4096)              0         \n",
      "                                                                 \n",
      " dense_2 (Dense)             (None, 2)                 8194      \n",
      "                                                                 \n",
      "=================================================================\n",
      "Total params: 226,063,106\n",
      "Trainable params: 226,062,402\n",
      "Non-trainable params: 704\n",
      "_________________________________________________________________\n"
     ]
    }
   ],
   "source": [
    "model.summary()"
   ]
  }
 ],
 "metadata": {
  "kernelspec": {
   "display_name": "Python 3.8.15 ('tf')",
   "language": "python",
   "name": "python3"
  },
  "language_info": {
   "codemirror_mode": {
    "name": "ipython",
    "version": 3
   },
   "file_extension": ".py",
   "mimetype": "text/x-python",
   "name": "python",
   "nbconvert_exporter": "python",
   "pygments_lexer": "ipython3",
   "version": "3.8.15"
  },
  "orig_nbformat": 4,
  "vscode": {
   "interpreter": {
    "hash": "19181e7bf0f08410f65fb3bf80e77c09c5fe1830899a9abdc34573591b362759"
   }
  }
 },
 "nbformat": 4,
 "nbformat_minor": 2
}
