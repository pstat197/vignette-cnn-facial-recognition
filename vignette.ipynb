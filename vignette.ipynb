{
 "cells": [
  {
   "cell_type": "markdown",
   "metadata": {},
   "source": [
    "# Deep Convolutional Neural Networks: An Introduction to Image Classification"
   ]
  },
  {
   "cell_type": "markdown",
   "metadata": {},
   "source": [
    "Template for setting up table of contents (part 1)\n",
    "\n",
    "# Table of contents\n",
    "1. [Introduction](#introduction)\n",
    "2. [Some paragraph](#paragraph1)\n",
    "    1. [Sub paragraph](#subparagraph1)\n",
    "3. [Another paragraph](#paragraph2)"
   ]
  },
  {
   "cell_type": "markdown",
   "metadata": {},
   "source": [
    "Template for setting up the table of contents (part 2)\n",
    "\n",
    "## This is the introduction <a name=\"introduction\"></a>\n",
    "Some introduction text, formatted in heading 2 style\n",
    "\n",
    "## Some paragraph <a name=\"paragraph1\"></a>\n",
    "The first paragraph text\n",
    "\n",
    "### Sub paragraph <a name=\"subparagraph1\"></a>\n",
    "This is a sub paragraph, formatted in heading 3 style\n",
    "\n",
    "## Another paragraph <a name=\"paragraph2\"></a>\n",
    "The second paragraph text"
   ]
  },
  {
   "cell_type": "markdown",
   "metadata": {},
   "source": [
    "Following the lab sctructure:\n",
    "1. Objective\n",
    "2. Setup\n",
    "    This are all the packages that are required to install\n",
    "    Installaion of certain packages (m2 install)\n",
    "3. Data Selection\n",
    "    Include summary statistics of the meta inforamtion of our data\n",
    "    resolution\n",
    "    distribution of meta data\n",
    "    sumary of how the data was gathered\n",
    "    link to where the data set can be downloaded\n",
    "    what subset of data are we using how did we select it\n",
    "\n",
    "4. Image Augmentation \n",
    "    How to understand how loayers of cnn affect the image\n",
    "        (kernals , filters)\n",
    "    Guassian Blur, Uniform Blur, Edge detection (horizontal/vertical kernals)\n",
    "\n",
    "5. Image Preprocessing\n",
    "    Preparing images for input into a cnn\n",
    "\n",
    "6. CNN for binary face classification\n",
    "    alex net 8\n",
    "\n",
    "7. CNN for multi classification\n"
   ]
  },
  {
   "cell_type": "code",
   "execution_count": null,
   "metadata": {},
   "outputs": [],
   "source": []
  }
 ],
 "metadata": {
  "kernelspec": {
   "display_name": "Python 3.8.15 ('tf')",
   "language": "python",
   "name": "python3"
  },
  "language_info": {
   "name": "python",
   "version": "3.8.15"
  },
  "orig_nbformat": 4,
  "vscode": {
   "interpreter": {
    "hash": "19181e7bf0f08410f65fb3bf80e77c09c5fe1830899a9abdc34573591b362759"
   }
  }
 },
 "nbformat": 4,
 "nbformat_minor": 2
}
